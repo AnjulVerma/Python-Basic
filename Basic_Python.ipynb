{
 "cells": [
  {
   "cell_type": "markdown",
   "metadata": {
    "id": "R3Kx07o04AKc"
   },
   "source": [
    "# Basic Python"
   ]
  },
  {
   "cell_type": "markdown",
   "metadata": {
    "id": "Bl1oWpd64tb4"
   },
   "source": [
    "1. What is Python, and why is it popular?\n",
    "    - Python is a high-level, versatile programming language known for its readability and ease of use. It's popular for web development, data science, machine learning, and scripting due to its simple syntax, extensive libraries, and strong community support.\n",
    "\n",
    "2. What is an interpreter in Python?\n",
    "    - In Python, an interpreter is a program that directly executes Python code without prior compilation into machine code. It translates the high-level Python code line by line into lower-level instructions that the computer can understand and execute.\n",
    "\n",
    "3. What are pre-defined keywords in Python?\n",
    "    - Predefined keywords in Python are reserved words that hold specific meanings and functionalities within the language. These keywords are fundamental to Python's syntax and structure, and they cannot be used as identifiers such as variable names, function names, or class names.\n",
    "    Ex: False, None, True, And, class etc.\n",
    "\n",
    "4.  Can keywords be used as variable names?\n",
    "    - No, keywords cannot be used as variable names. Keywords are reserved words in a programming language that have predefined meanings and are used to define the language's syntax and structure. Using them as variable names would lead to syntax errors.\n",
    "\n",
    "5. what is mutability in python?\n",
    "    - In Python, mutability refers to whether an object's state or content can be changed after it is created.\n",
    "\n",
    "6. Why are lists mutable, but tuples are immutable?\n",
    "    - The reason for the tuple's immutability is that once the elements are added to the tuple and the tuple has been created; it remains unchanged,While lists are mutable because you can change the order of items in a list or reassign an item in a list.\n",
    "\n",
    "7. What is the difference between “==” and “is” operators in Python?\n",
    "    - The \"==\" operator checks for equality of values which means it evaluates whether the values of two objects are the same. On the other hand, \"is\" operator checks for identity, meaning it determines whether two variables point to the same object in memory.\n",
    "\n",
    "8. What are logical operators in Python?\n",
    "    - Logical operators in Python are used to combine conditional statements and evaluate expressions based on their truth values (True or False).\n",
    "\n",
    "9. What is type casting in Python?\n",
    "    - Type casting, also known as type conversion, is the process of converting one data type into another.\n",
    "\n",
    "10. What is the difference between implicit and explicit type casting?\n",
    "    - In implicit type casting, the programming language automatically converts data from one type to another if needed. For example, if you have an integer variable and you try to assign it to a float variable, the programming language will automatically convert the integer to a float, While Explicit type casting, also known as type conversion or type coercion, occurs when the programmer explicitly converts a value from one data type to another.\n",
    "\n",
    "11. What is the purpose of conditional statements in Python?\n",
    "    - Conditional statements in Python are used to execute certain blocks of code based on specific conditions. These statements help control the flow of a program, making it behave differently in different situations.\n",
    "\n",
    "12. How does the elif statement work ?\n",
    "    - The elif statement is a conditional control flow statement used in multiple conditions sequentially. If the if condition is False, the program then proceeds to evaluate the condition of the first elif statement.\n",
    "\n",
    "13. What is the difference between for and while loops?\n",
    "    - For loops are designed for situations where the number of iterations is known in advance, while loops are more flexible and can handle situations where the number of iterations is unknown or depends on a dynamic condition.\n",
    "    - For loops often have their initialization and increment/decrement within the loop's structure, while loops usually have initialization outside the loop, and the increment/decrement is placed within the loop's body.\n",
    "    - For loops have a condition that is evaluated at the beginning of each iteration. while continue executing as long as their condition remains true.\n",
    "\n",
    "14. Describe a scenario where a while loop is more suitable than a for loop.\n",
    "    - Using while loop\n",
    "\n",
    "      int counter = 0;\n",
    "      while (counter < 10) {\n",
    "          //do some task\n",
    "          if(some condition){\n",
    "              break;\n",
    "          }\n",
    "      }\n",
    "      useTheCounter(counter); // method which use that value of counter do some other task\n",
    "      \n",
    "      In this case I found while loop is better than for loop because if i want to achieve the same in for loop i have to assign the value of counter to another variable.\n"
   ]
  },
  {
   "cell_type": "markdown",
   "metadata": {
    "id": "gGshmphP5hT7"
   },
   "source": []
  },
  {
   "cell_type": "code",
   "execution_count": null,
   "metadata": {
    "colab": {
     "base_uri": "https://localhost:8080/"
    },
    "id": "pqJnSCt_U98G",
    "outputId": "db6c58ef-9952-45b4-d4e0-f5aa13c268cc"
   },
   "outputs": [
    {
     "name": "stdout",
     "output_type": "stream",
     "text": [
      "Hello, World!\n",
      "Anjul Verma\n",
      "27\n",
      "The list of keywords is : \n",
      "['False', 'None', 'True', 'and', 'as', 'assert', 'async', 'await', 'break', 'class', 'continue', 'def', 'del', 'elif', 'else', 'except', 'finally', 'for', 'from', 'global', 'if', 'import', 'in', 'is', 'lambda', 'nonlocal', 'not', 'or', 'pass', 'raise', 'return', 'try', 'while', 'with', 'yield']\n",
      "Enter a word to check if it's a Python keyword: if\n",
      "'if' is a Python keyword.\n"
     ]
    }
   ],
   "source": [
    "# 1. Write a Python program to print \"Hello, World!\n",
    "print (\"Hello, World!\")\n",
    "\n",
    "# 2. Write a Python program that displays your name and age.\n",
    "print(\"Anjul Verma\")\n",
    "print(27)\n",
    "\n",
    "# 3. Write code to print all the pre-defined keywords in Python using the keyword library.\n",
    "import keyword\n",
    "print(\"The list of keywords is : \")\n",
    "print(keyword.kwlist)\n",
    "\n",
    "# 4. Write a program that checks if a given word is a Python keyword.\n",
    "import keyword\n",
    "# Get input from the user\n",
    "word = input(\"Enter a word to check if it's a Python keyword: \")\n",
    "# Check if the word is a Python keyword\n",
    "if keyword.iskeyword(word):\n",
    "    print(f\"'{word}' is a Python keyword.\")\n",
    "else:\n",
    "    print(f\"'{word}' is NOT a Python keyword.\")\n"
   ]
  },
  {
   "cell_type": "code",
   "execution_count": null,
   "metadata": {
    "colab": {
     "base_uri": "https://localhost:8080/"
    },
    "id": "HIp4uk6kdRtz",
    "outputId": "3fcb3a80-0450-4dbb-bfb5-28278b04c4e2"
   },
   "outputs": [
    {
     "name": "stdout",
     "output_type": "stream",
     "text": [
      "Original list: [1, 2, 3]\n",
      "Modified list: [10, 2, 3]\n",
      "Original tuple: (1, 2, 3)\n",
      "Error when modifying tuple: 'tuple' object does not support item assignment\n"
     ]
    }
   ],
   "source": [
    "# 5. Create a list and tuple in Python, and demonstrate how attempting to change an element works differently for each.\n",
    "# Create a list and a tuple\n",
    "my_list = [1, 2, 3]\n",
    "my_tuple = (1, 2, 3)\n",
    "\n",
    "# Modify an element in the list\n",
    "print(\"Original list:\", my_list)\n",
    "my_list[0] = 10\n",
    "print(\"Modified list:\", my_list)\n",
    "\n",
    "# Try to modify an element in the tuple\n",
    "print(\"Original tuple:\", my_tuple)\n",
    "try:\n",
    "    my_tuple[0] = 10\n",
    "except TypeError as e:\n",
    "    print(\"Error when modifying tuple:\", e)"
   ]
  },
  {
   "cell_type": "code",
   "execution_count": null,
   "metadata": {
    "colab": {
     "base_uri": "https://localhost:8080/"
    },
    "id": "zoYXoZmlfWOz",
    "outputId": "86be71fc-9deb-40e7-b5f3-da4cb03fa2c0"
   },
   "outputs": [
    {
     "name": "stdout",
     "output_type": "stream",
     "text": [
      "'str' object does not support item assignment\n"
     ]
    }
   ],
   "source": [
    "from re import A\n",
    "# 6. Write a function to demonstrate the behavior of mutable and immutable arguments.\n",
    "# we are creating a list\n",
    "list_cont = [1, 2, 3, 4.5, 3+5j, \"pwskills\"]\n",
    "list_cont\n",
    "\n",
    "#checking mutability\n",
    "list_cont[2] = 200\n",
    "list_cont\n",
    "\n",
    "list_cont[5] = \"pwskills.com\"\n",
    "list_cont\n",
    "\n",
    "# As we can see in the objects which state and value can be changed after they are creted called mutable object.\n",
    "# list is a type of mutable object.\n",
    "\n",
    "# Now we are checking immutablity\n",
    "b = \"pwskills\"\n",
    "b[1]\n",
    "try:\n",
    "    b[1] = 'a'\n",
    "except TypeError as e:\n",
    "    print(e)\n",
    "# As we can see in the  objects which state and value can be changed after they are creted called immutable object.\n",
    "# String is a type of mutable object.\n"
   ]
  },
  {
   "cell_type": "code",
   "execution_count": null,
   "metadata": {
    "colab": {
     "base_uri": "https://localhost:8080/"
    },
    "id": "wCIYR5bcrjgR",
    "outputId": "26804a02-5efb-4033-9bf3-49f14c393c35"
   },
   "outputs": [
    {
     "name": "stdout",
     "output_type": "stream",
     "text": [
      "Enter the first number: 6\n",
      "Enter the second number: 7\n",
      "Enter the operation (+, -, *, /): *\n",
      "42.0\n"
     ]
    }
   ],
   "source": [
    "# 7.Write a program that performs basic arithmetic operations on two user-input numbers\n",
    "#input from user\n",
    "num1 = float(input(\"Enter the first number: \"))\n",
    "num2 = float(input(\"Enter the second number: \"))\n",
    "\n",
    "# Perform arithmetic operations\n",
    "Operation = input(\"Enter the operation (+, -, *, /): \")\n",
    "if Operation == '+':\n",
    "    print(num1 + num2)\n",
    "elif Operation == '-':\n",
    "    print(num1 - num2)\n",
    "elif Operation == '*':\n",
    "    print(num1 * num2)\n",
    "elif Operation == '/':\n",
    "    if num2 != 0:\n",
    "        print(num1 / num2)\n",
    "    else:\n",
    "        print(\"Error: Division by zero.\")\n",
    "else:\n",
    "    print(\"Invalid operation.\")"
   ]
  },
  {
   "cell_type": "code",
   "execution_count": null,
   "metadata": {
    "colab": {
     "base_uri": "https://localhost:8080/"
    },
    "id": "YrF86_V2fheZ",
    "outputId": "a3a01780-b07c-407b-a23e-9380d744e276"
   },
   "outputs": [
    {
     "name": "stdout",
     "output_type": "stream",
     "text": [
      "Enter first number: 4\n",
      "Enter second number: 5\n",
      "\n",
      "Logical AND:\n",
      "a > 0 and b > 0: True\n",
      "\n",
      "Logical OR:\n",
      "a > 0 or b > 0: True\n",
      "\n",
      "Logical NOT:\n",
      "not(a > 0): False\n"
     ]
    }
   ],
   "source": [
    "# 8.Write a program to demonstrate the use of logical operators.\n",
    "# input from the user\n",
    "a = int(input(\"Enter first number: \"))\n",
    "b = int(input(\"Enter second number: \"))\n",
    "\n",
    "# logical AND\n",
    "print(\"\\nLogical AND:\")\n",
    "print(f\"a > 0 and b > 0: {a > 0 and b > 0}\")\n",
    "\n",
    "# logical OR\n",
    "print(\"\\nLogical OR:\")\n",
    "print(f\"a > 0 or b > 0: {a > 0 or b > 0}\")\n",
    "\n",
    "# logical NOT\n",
    "print(\"\\nLogical NOT:\")\n",
    "print(f\"not(a > 0): {not (a > 0)}\")"
   ]
  },
  {
   "cell_type": "code",
   "execution_count": null,
   "metadata": {
    "colab": {
     "base_uri": "https://localhost:8080/"
    },
    "id": "Eq3Zc4xujqmc",
    "outputId": "3b22ae6f-b51a-48ea-dae0-d411c294c9cc"
   },
   "outputs": [
    {
     "name": "stdout",
     "output_type": "stream",
     "text": [
      "Enter a value: 29\n",
      "Integer: 29\n",
      "Float: 29.0\n",
      "Boolean: True\n"
     ]
    }
   ],
   "source": [
    "# 9.Write a Python program to convert user input from string to integer, float, and boolean types.\n",
    "# input from user\n",
    "user_input = input(\"Enter a value: \")\n",
    "\n",
    "# Convert to integer\n",
    "int_value = int(user_input)\n",
    "\n",
    "# Convert to float\n",
    "float_value = float(user_input)\n",
    "\n",
    "# Convert to boolean (non-empty and not \"0\" means True)\n",
    "bool_value = bool(user_input)\n",
    "\n",
    "print(\"Integer:\", int_value)\n",
    "print(\"Float:\", float_value)\n",
    "print(\"Boolean:\", bool_value)\n"
   ]
  },
  {
   "cell_type": "code",
   "execution_count": null,
   "metadata": {
    "colab": {
     "base_uri": "https://localhost:8080/"
    },
    "id": "xWdzqR2jrE_B",
    "outputId": "7ae35390-f167-4f13-f1b2-ff292ced715b"
   },
   "outputs": [
    {
     "name": "stdout",
     "output_type": "stream",
     "text": [
      "['1', '2', '3']\n",
      "[1, 2, 3]\n",
      "[1.0, 2.0, 3.0]\n",
      "[True, True, True]\n"
     ]
    }
   ],
   "source": [
    "# 10.Write code to demonstrate type casting with list elements.\n",
    "# List of string numbers\n",
    "string_list = ['1', '2', '3']\n",
    "\n",
    "# Convert to integers\n",
    "int_list = [int(x) for x in string_list]\n",
    "\n",
    "# Convert to floats\n",
    "float_list = [float(x) for x in string_list]\n",
    "\n",
    "# Convert to booleans\n",
    "bool_list = [bool(x) for x in string_list]\n",
    "\n",
    "# Print results\n",
    "print(string_list)\n",
    "print(int_list)\n",
    "print(float_list)\n",
    "print(bool_list)"
   ]
  },
  {
   "cell_type": "code",
   "execution_count": null,
   "metadata": {
    "colab": {
     "base_uri": "https://localhost:8080/"
    },
    "id": "3NjlV93aree0",
    "outputId": "e730689d-91bd-401a-959b-3334597140a2"
   },
   "outputs": [
    {
     "name": "stdout",
     "output_type": "stream",
     "text": [
      "Enter a number: 0\n",
      "Zero\n"
     ]
    }
   ],
   "source": [
    "# 11. Write a program that checks if a number is positive, negative, or zero.\n",
    "num = float(input(\"Enter a number: \"))\n",
    "\n",
    "if num > 0:\n",
    "    print(\"Positive\")\n",
    "elif num < 0:\n",
    "    print(\"Negative\")\n",
    "else:\n",
    "    print(\"Zero\")"
   ]
  },
  {
   "cell_type": "code",
   "execution_count": null,
   "metadata": {
    "colab": {
     "base_uri": "https://localhost:8080/"
    },
    "id": "zlXBlAfCr_fi",
    "outputId": "90cdc871-1ef6-47a0-baf4-64d628ec12fe"
   },
   "outputs": [
    {
     "name": "stdout",
     "output_type": "stream",
     "text": [
      "1\n",
      "2\n",
      "3\n",
      "4\n",
      "5\n",
      "6\n",
      "7\n",
      "8\n",
      "9\n",
      "10\n"
     ]
    }
   ],
   "source": [
    "# 12. Write a for loop to print numbers from 1 to 10.\n",
    "for i in range(1, 11):\n",
    "    print(i)"
   ]
  },
  {
   "cell_type": "code",
   "execution_count": null,
   "metadata": {
    "colab": {
     "base_uri": "https://localhost:8080/"
    },
    "id": "rQQuSkhu2fn9",
    "outputId": "ac326a33-2be2-4203-9c03-e8e7975dc207"
   },
   "outputs": [
    {
     "name": "stdout",
     "output_type": "stream",
     "text": [
      "Sum of even numbers between 1 and 50 is: 650\n"
     ]
    }
   ],
   "source": [
    "# 13. Write a Python program to find the sum of all even numbers between 1 and 50.\n",
    "sum_even = 0\n",
    "\n",
    "for num in range(1, 51):\n",
    "    if num % 2 == 0:\n",
    "       sum_even = sum_even + num\n",
    "\n",
    "print(\"Sum of even numbers between 1 and 50 is:\", sum_even)\n",
    "\n"
   ]
  },
  {
   "cell_type": "code",
   "execution_count": null,
   "metadata": {
    "colab": {
     "base_uri": "https://localhost:8080/"
    },
    "id": "wHDSxQy7sv0z",
    "outputId": "b85188ac-6f37-4e9c-90e6-858815d8a5fe"
   },
   "outputs": [
    {
     "name": "stdout",
     "output_type": "stream",
     "text": [
      "Enter a string: Anjul\n",
      "Reversed string: lujnA\n"
     ]
    }
   ],
   "source": [
    "# 14. Write a program to reverse a string using a while loop.\n",
    "#input from user\n",
    "input_string = input(\"Enter a string: \")\n",
    "\n",
    "# Initialize variables\n",
    "reversed_string = \"\"\n",
    "index = len(input_string) - 1\n",
    "\n",
    "# Use a while loop to reverse the string\n",
    "while index >= 0:\n",
    "    reversed_string = reversed_string + input_string[index]\n",
    "    index = index - 1\n",
    "\n",
    "# Print the reversed string\n",
    "print(\"Reversed string:\", reversed_string)"
   ]
  },
  {
   "cell_type": "code",
   "execution_count": null,
   "metadata": {
    "colab": {
     "base_uri": "https://localhost:8080/"
    },
    "id": "RtJ41krQv26S",
    "outputId": "178571b0-c81a-41ff-dd4e-38aa7afd0ffa"
   },
   "outputs": [
    {
     "name": "stdout",
     "output_type": "stream",
     "text": [
      "Enter a number: 5\n",
      "Factorial of 5 is: 120\n"
     ]
    }
   ],
   "source": [
    "# 15. Write a Python program to calculate the factorial of a number provided by the user using a while loop.\n",
    "num = int(input(\"Enter a number: \"))\n",
    "factorial = 1\n",
    "i = 1\n",
    "\n",
    "while i <= num:\n",
    "    factorial = factorial*i\n",
    "    i = i+1\n",
    "\n",
    "print(\"Factorial of\", num, \"is:\", factorial)"
   ]
  },
  {
   "cell_type": "markdown",
   "metadata": {
    "id": "_ob6GyM_3vTT"
   },
   "source": []
  }
 ],
 "metadata": {
  "colab": {
   "provenance": []
  },
  "kernelspec": {
   "display_name": "Python [conda env:base] *",
   "language": "python",
   "name": "conda-base-py"
  },
  "language_info": {
   "codemirror_mode": {
    "name": "ipython",
    "version": 3
   },
   "file_extension": ".py",
   "mimetype": "text/x-python",
   "name": "python",
   "nbconvert_exporter": "python",
   "pygments_lexer": "ipython3",
   "version": "3.13.5"
  }
 },
 "nbformat": 4,
 "nbformat_minor": 4
}
